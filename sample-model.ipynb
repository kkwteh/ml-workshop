{
 "metadata": {
  "name": "",
  "signature": "sha256:6824c3a19e154aa947746f84bdca4050974e95fd6bd437799eac8678289b6477"
 },
 "nbformat": 3,
 "nbformat_minor": 0,
 "worksheets": [
  {
   "cells": [
    {
     "cell_type": "code",
     "collapsed": false,
     "input": [
      "import pandas as pd"
     ],
     "language": "python",
     "metadata": {},
     "outputs": [],
     "prompt_number": 2
    },
    {
     "cell_type": "code",
     "collapsed": false,
     "input": [
      "df = pd.read_csv('./ml-workshop-listing-data.csv')"
     ],
     "language": "python",
     "metadata": {},
     "outputs": [],
     "prompt_number": 14
    },
    {
     "cell_type": "code",
     "collapsed": false,
     "input": [
      "df.shape"
     ],
     "language": "python",
     "metadata": {},
     "outputs": [
      {
       "metadata": {},
       "output_type": "pyout",
       "prompt_number": 15,
       "text": [
        "(1090, 26)"
       ]
      }
     ],
     "prompt_number": 15
    },
    {
     "cell_type": "code",
     "collapsed": false,
     "input": [
      "df.count()"
     ],
     "language": "python",
     "metadata": {},
     "outputs": [
      {
       "metadata": {},
       "output_type": "pyout",
       "prompt_number": 16,
       "text": [
        "ListPrice              1090\n",
        "ListingContractDate    1090\n",
        "ClosePrice             1090\n",
        "CloseDate              1090\n",
        "BathsFull              1090\n",
        "BathsHalf              1090\n",
        "BedsTotal              1090\n",
        "Block                  1080\n",
        "City                   1090\n",
        "ComplexName               0\n",
        "FireplacesTotal        1090\n",
        "Flooring               1090\n",
        "LotSizeAreaSQFT        1090\n",
        "NumberOfDiningAreas    1090\n",
        "NumberOfLivingAreas    1090\n",
        "NumberOfStories        1090\n",
        "PoolYN                 1090\n",
        "PostalCode             1090\n",
        "PropertySubType        1090\n",
        "PropertyType           1090\n",
        "Status                 1090\n",
        "SubdivisionName        1090\n",
        "SqFtTotal              1090\n",
        "YearBuilt              1090\n",
        "SellerContributions    1090\n",
        "PublicRemarks          1083\n",
        "dtype: int64"
       ]
      }
     ],
     "prompt_number": 16
    },
    {
     "cell_type": "code",
     "collapsed": false,
     "input": [
      "# Split data into training and testing\n",
      "train = df.iloc[:700]\n",
      "test = df.iloc[700:]"
     ],
     "language": "python",
     "metadata": {},
     "outputs": [],
     "prompt_number": 17
    },
    {
     "cell_type": "code",
     "collapsed": false,
     "input": [
      "from sklearn.linear_model import LinearRegression"
     ],
     "language": "python",
     "metadata": {},
     "outputs": [],
     "prompt_number": 18
    },
    {
     "cell_type": "code",
     "collapsed": false,
     "input": [
      "# Train and evaluate model\n",
      "model = LinearRegression()\n",
      "features = ['SqFtTotal', 'YearBuilt']\n",
      "model.fit(train[features], train['ClosePrice'])\n",
      "predictions = model.predict(test[features])\n",
      "median_absolute_error = abs((predictions - test['ClosePrice'])/ test['ClosePrice']).median()"
     ],
     "language": "python",
     "metadata": {},
     "outputs": [],
     "prompt_number": 19
    },
    {
     "cell_type": "code",
     "collapsed": false,
     "input": [
      "median_absolute_error"
     ],
     "language": "python",
     "metadata": {},
     "outputs": [
      {
       "metadata": {},
       "output_type": "pyout",
       "prompt_number": 20,
       "text": [
        "0.06351432647035105"
       ]
      }
     ],
     "prompt_number": 20
    },
    {
     "cell_type": "code",
     "collapsed": false,
     "input": [],
     "language": "python",
     "metadata": {},
     "outputs": []
    }
   ],
   "metadata": {}
  }
 ]
}