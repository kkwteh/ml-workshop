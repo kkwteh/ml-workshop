{
 "metadata": {
  "name": "",
  "signature": "sha256:b5a65f3f060f8949963943cd36f7b00c2bd12af5be0f9a886d2304e4449be5d9"
 },
 "nbformat": 3,
 "nbformat_minor": 0,
 "worksheets": [
  {
   "cells": [
    {
     "cell_type": "code",
     "collapsed": false,
     "input": [
      "import pandas as pd"
     ],
     "language": "python",
     "metadata": {},
     "outputs": [],
     "prompt_number": 1
    },
    {
     "cell_type": "code",
     "collapsed": false,
     "input": [
      "df = pd.read_csv('./ml-workshop-listing-data.csv')"
     ],
     "language": "python",
     "metadata": {},
     "outputs": [],
     "prompt_number": 2
    },
    {
     "cell_type": "code",
     "collapsed": false,
     "input": [
      "type(df)"
     ],
     "language": "python",
     "metadata": {},
     "outputs": [
      {
       "metadata": {},
       "output_type": "pyout",
       "prompt_number": 3,
       "text": [
        "pandas.core.frame.DataFrame"
       ]
      }
     ],
     "prompt_number": 3
    },
    {
     "cell_type": "code",
     "collapsed": false,
     "input": [
      "df.head()"
     ],
     "language": "python",
     "metadata": {},
     "outputs": [
      {
       "html": [
        "<div style=\"max-height:1000px;max-width:1500px;overflow:auto;\">\n",
        "<table border=\"1\" class=\"dataframe\">\n",
        "  <thead>\n",
        "    <tr style=\"text-align: right;\">\n",
        "      <th></th>\n",
        "      <th>ListPrice</th>\n",
        "      <th>ListingContractDate</th>\n",
        "      <th>ClosePrice</th>\n",
        "      <th>CloseDate</th>\n",
        "      <th>BathsFull</th>\n",
        "      <th>BathsHalf</th>\n",
        "      <th>BedsTotal</th>\n",
        "      <th>Block</th>\n",
        "      <th>City</th>\n",
        "      <th>ComplexName</th>\n",
        "      <th>...</th>\n",
        "      <th>PoolYN</th>\n",
        "      <th>PostalCode</th>\n",
        "      <th>PropertySubType</th>\n",
        "      <th>PropertyType</th>\n",
        "      <th>Status</th>\n",
        "      <th>SubdivisionName</th>\n",
        "      <th>SqFtTotal</th>\n",
        "      <th>YearBuilt</th>\n",
        "      <th>SellerContributions</th>\n",
        "      <th>PublicRemarks</th>\n",
        "    </tr>\n",
        "  </thead>\n",
        "  <tbody>\n",
        "    <tr>\n",
        "      <th>0</th>\n",
        "      <td> 269900</td>\n",
        "      <td> 2014-06-23T00:00:00.000</td>\n",
        "      <td> 268000</td>\n",
        "      <td> 2014-10-20T00:00:00.000</td>\n",
        "      <td> 4</td>\n",
        "      <td> 0</td>\n",
        "      <td> 6</td>\n",
        "      <td> G</td>\n",
        "      <td> McKinney</td>\n",
        "      <td>NaN</td>\n",
        "      <td>...</td>\n",
        "      <td> 0</td>\n",
        "      <td> 75070</td>\n",
        "      <td> RES-Single Family</td>\n",
        "      <td> Residential</td>\n",
        "      <td> Sold</td>\n",
        "      <td>           Avalon2</td>\n",
        "      <td> 3332</td>\n",
        "      <td> 2005</td>\n",
        "      <td>    0</td>\n",
        "      <td> Beautiful home with lots of room for growing f...</td>\n",
        "    </tr>\n",
        "    <tr>\n",
        "      <th>1</th>\n",
        "      <td> 299000</td>\n",
        "      <td> 2014-07-18T00:00:00.000</td>\n",
        "      <td> 288000</td>\n",
        "      <td> 2014-10-20T00:00:00.000</td>\n",
        "      <td> 2</td>\n",
        "      <td> 1</td>\n",
        "      <td> 3</td>\n",
        "      <td> C</td>\n",
        "      <td> McKinney</td>\n",
        "      <td>NaN</td>\n",
        "      <td>...</td>\n",
        "      <td> 0</td>\n",
        "      <td> 75070</td>\n",
        "      <td> RES-Single Family</td>\n",
        "      <td> Residential</td>\n",
        "      <td> Sold</td>\n",
        "      <td>        SummerGlen</td>\n",
        "      <td> 3385</td>\n",
        "      <td> 2002</td>\n",
        "      <td>    0</td>\n",
        "      <td> Former model home located off the golf course ...</td>\n",
        "    </tr>\n",
        "    <tr>\n",
        "      <th>2</th>\n",
        "      <td> 219900</td>\n",
        "      <td> 2014-07-10T00:00:00.000</td>\n",
        "      <td> 220000</td>\n",
        "      <td> 2014-10-21T00:00:00.000</td>\n",
        "      <td> 2</td>\n",
        "      <td> 1</td>\n",
        "      <td> 4</td>\n",
        "      <td> A</td>\n",
        "      <td> McKinney</td>\n",
        "      <td>NaN</td>\n",
        "      <td>...</td>\n",
        "      <td> 0</td>\n",
        "      <td> 75070</td>\n",
        "      <td> RES-Single Family</td>\n",
        "      <td> Residential</td>\n",
        "      <td> Sold</td>\n",
        "      <td>   LiveOakVillage1</td>\n",
        "      <td> 2408</td>\n",
        "      <td> 2001</td>\n",
        "      <td> 5600</td>\n",
        "      <td> Fabulous family home in Live Oak Village of St...</td>\n",
        "    </tr>\n",
        "    <tr>\n",
        "      <th>3</th>\n",
        "      <td> 395000</td>\n",
        "      <td> 2014-07-31T00:00:00.000</td>\n",
        "      <td> 389000</td>\n",
        "      <td> 2014-10-22T00:00:00.000</td>\n",
        "      <td> 4</td>\n",
        "      <td> 0</td>\n",
        "      <td> 4</td>\n",
        "      <td> B</td>\n",
        "      <td> McKinney</td>\n",
        "      <td>NaN</td>\n",
        "      <td>...</td>\n",
        "      <td> 1</td>\n",
        "      <td> 75070</td>\n",
        "      <td> RES-Single Family</td>\n",
        "      <td> Residential</td>\n",
        "      <td> Sold</td>\n",
        "      <td> VillageParkNorth1</td>\n",
        "      <td> 3626</td>\n",
        "      <td> 2006</td>\n",
        "      <td>    0</td>\n",
        "      <td> GORGEOUS SHOWS LIKE A MODEL! OPEN CONCEPT FL P...</td>\n",
        "    </tr>\n",
        "    <tr>\n",
        "      <th>4</th>\n",
        "      <td> 256000</td>\n",
        "      <td> 2014-09-24T00:00:00.000</td>\n",
        "      <td> 259750</td>\n",
        "      <td> 2014-10-22T00:00:00.000</td>\n",
        "      <td> 2</td>\n",
        "      <td> 0</td>\n",
        "      <td> 4</td>\n",
        "      <td> C</td>\n",
        "      <td> McKinney</td>\n",
        "      <td>NaN</td>\n",
        "      <td>...</td>\n",
        "      <td> 0</td>\n",
        "      <td> 75070</td>\n",
        "      <td> RES-Single Family</td>\n",
        "      <td> Residential</td>\n",
        "      <td> Sold</td>\n",
        "      <td>        EagleCreek</td>\n",
        "      <td> 2357</td>\n",
        "      <td> 2000</td>\n",
        "      <td> 1565</td>\n",
        "      <td> NICELY UPDATED ONE-STORY IN THE HEART OF STONE...</td>\n",
        "    </tr>\n",
        "  </tbody>\n",
        "</table>\n",
        "<p>5 rows \u00d7 26 columns</p>\n",
        "</div>"
       ],
       "metadata": {},
       "output_type": "pyout",
       "prompt_number": 4,
       "text": [
        "   ListPrice      ListingContractDate  ClosePrice                CloseDate  \\\n",
        "0     269900  2014-06-23T00:00:00.000      268000  2014-10-20T00:00:00.000   \n",
        "1     299000  2014-07-18T00:00:00.000      288000  2014-10-20T00:00:00.000   \n",
        "2     219900  2014-07-10T00:00:00.000      220000  2014-10-21T00:00:00.000   \n",
        "3     395000  2014-07-31T00:00:00.000      389000  2014-10-22T00:00:00.000   \n",
        "4     256000  2014-09-24T00:00:00.000      259750  2014-10-22T00:00:00.000   \n",
        "\n",
        "   BathsFull  BathsHalf  BedsTotal Block      City  ComplexName  \\\n",
        "0          4          0          6     G  McKinney          NaN   \n",
        "1          2          1          3     C  McKinney          NaN   \n",
        "2          2          1          4     A  McKinney          NaN   \n",
        "3          4          0          4     B  McKinney          NaN   \n",
        "4          2          0          4     C  McKinney          NaN   \n",
        "\n",
        "                         ...                          PoolYN PostalCode  \\\n",
        "0                        ...                               0      75070   \n",
        "1                        ...                               0      75070   \n",
        "2                        ...                               0      75070   \n",
        "3                        ...                               1      75070   \n",
        "4                        ...                               0      75070   \n",
        "\n",
        "     PropertySubType  PropertyType  Status    SubdivisionName  SqFtTotal  \\\n",
        "0  RES-Single Family   Residential    Sold            Avalon2       3332   \n",
        "1  RES-Single Family   Residential    Sold         SummerGlen       3385   \n",
        "2  RES-Single Family   Residential    Sold    LiveOakVillage1       2408   \n",
        "3  RES-Single Family   Residential    Sold  VillageParkNorth1       3626   \n",
        "4  RES-Single Family   Residential    Sold         EagleCreek       2357   \n",
        "\n",
        "   YearBuilt SellerContributions  \\\n",
        "0       2005                   0   \n",
        "1       2002                   0   \n",
        "2       2001                5600   \n",
        "3       2006                   0   \n",
        "4       2000                1565   \n",
        "\n",
        "                                       PublicRemarks  \n",
        "0  Beautiful home with lots of room for growing f...  \n",
        "1  Former model home located off the golf course ...  \n",
        "2  Fabulous family home in Live Oak Village of St...  \n",
        "3  GORGEOUS SHOWS LIKE A MODEL! OPEN CONCEPT FL P...  \n",
        "4  NICELY UPDATED ONE-STORY IN THE HEART OF STONE...  \n",
        "\n",
        "[5 rows x 26 columns]"
       ]
      }
     ],
     "prompt_number": 4
    },
    {
     "cell_type": "code",
     "collapsed": false,
     "input": [
      "df.shape"
     ],
     "language": "python",
     "metadata": {},
     "outputs": [
      {
       "metadata": {},
       "output_type": "pyout",
       "prompt_number": 5,
       "text": [
        "(1090, 26)"
       ]
      }
     ],
     "prompt_number": 5
    },
    {
     "cell_type": "code",
     "collapsed": false,
     "input": [
      "df.count()"
     ],
     "language": "python",
     "metadata": {},
     "outputs": [
      {
       "metadata": {},
       "output_type": "pyout",
       "prompt_number": 6,
       "text": [
        "ListPrice              1090\n",
        "ListingContractDate    1090\n",
        "ClosePrice             1090\n",
        "CloseDate              1090\n",
        "BathsFull              1090\n",
        "BathsHalf              1090\n",
        "BedsTotal              1090\n",
        "Block                  1080\n",
        "City                   1090\n",
        "ComplexName               0\n",
        "FireplacesTotal        1090\n",
        "Flooring               1090\n",
        "LotSizeAreaSQFT        1090\n",
        "NumberOfDiningAreas    1090\n",
        "NumberOfLivingAreas    1090\n",
        "NumberOfStories        1090\n",
        "PoolYN                 1090\n",
        "PostalCode             1090\n",
        "PropertySubType        1090\n",
        "PropertyType           1090\n",
        "Status                 1090\n",
        "SubdivisionName        1090\n",
        "SqFtTotal              1090\n",
        "YearBuilt              1090\n",
        "SellerContributions    1090\n",
        "PublicRemarks          1083\n",
        "dtype: int64"
       ]
      }
     ],
     "prompt_number": 6
    },
    {
     "cell_type": "code",
     "collapsed": false,
     "input": [],
     "language": "python",
     "metadata": {},
     "outputs": [],
     "prompt_number": 6
    },
    {
     "cell_type": "code",
     "collapsed": false,
     "input": [
      "# Exploratory plot\n",
      "%pylab inline\n",
      "plt.figure(figsize=(12, 8))\n",
      "plt.scatter(df.SqFtTotal.as_matrix(), df.ClosePrice.as_matrix(), alpha=0.4)\n",
      "plt.xlabel('Home Sq Ft')\n",
      "plt.ylabel('Home Price')"
     ],
     "language": "python",
     "metadata": {},
     "outputs": [
      {
       "output_type": "stream",
       "stream": "stdout",
       "text": [
        "Populating the interactive namespace from numpy and matplotlib\n"
       ]
      },
      {
       "metadata": {},
       "output_type": "pyout",
       "prompt_number": 7,
       "text": [
        "<matplotlib.text.Text at 0x10941b650>"
       ]
      },
      {
       "output_type": "stream",
       "stream": "stderr",
       "text": [
        "/Users/kevin/anaconda/envs/workshop/lib/python2.7/site-packages/matplotlib/collections.py:590: FutureWarning: elementwise comparison failed; returning scalar instead, but in the future will perform elementwise comparison\n",
        "  if self._edgecolors == str('face'):\n"
       ]
      },
      {
       "metadata": {},
       "output_type": "display_data",
       "png": "[encoded data removed]",
       "text": [
        "<matplotlib.figure.Figure at 0x1086df1d0>"
       ]
      }
     ],
     "prompt_number": 7
    },
    {
     "cell_type": "code",
     "collapsed": false,
     "input": [
      "# Split data into training and testing\n",
      "train = df.iloc[:700]\n",
      "_test = df.iloc[700:]"
     ],
     "language": "python",
     "metadata": {},
     "outputs": [],
     "prompt_number": 8
    },
    {
     "cell_type": "code",
     "collapsed": false,
     "input": [
      "# Train and evaluate a linear regression model\n",
      "from sklearn.linear_model import LinearRegression\n",
      "model = LinearRegression()\n",
      "features = ['SqFtTotal']\n",
      "model.fit(train[features], train['ClosePrice'])  # Training step"
     ],
     "language": "python",
     "metadata": {},
     "outputs": [
      {
       "metadata": {},
       "output_type": "pyout",
       "prompt_number": 9,
       "text": [
        "LinearRegression(copy_X=True, fit_intercept=True, n_jobs=1, normalize=False)"
       ]
      }
     ],
     "prompt_number": 9
    },
    {
     "cell_type": "code",
     "collapsed": false,
     "input": [
      "model.intercept_, model.coef_"
     ],
     "language": "python",
     "metadata": {},
     "outputs": [
      {
       "metadata": {},
       "output_type": "pyout",
       "prompt_number": 10,
       "text": [
        "(60584.052945241914, array([ 81.54858534]))"
       ]
      }
     ],
     "prompt_number": 10
    },
    {
     "cell_type": "code",
     "collapsed": false,
     "input": [
      "predictions = model.predict(_test[features])\n",
      "plt.figure(figsize=(12, 8))\n",
      "plt.scatter(_test.SqFtTotal.as_matrix(), _test.ClosePrice.as_matrix(), alpha=0.8)\n",
      "plt.plot(_test.SqFtTotal.as_matrix(), predictions, 'b')\n",
      "plt.xlabel('Home Sq Ft')\n",
      "plt.ylabel('Home Price')"
     ],
     "language": "python",
     "metadata": {},
     "outputs": [
      {
       "metadata": {},
       "output_type": "pyout",
       "prompt_number": 11,
       "text": [
        "<matplotlib.text.Text at 0x10b874e50>"
       ]
      },
      {
       "metadata": {},
       "output_type": "display_data",
       "png": "[encoded data removed]",
       "text": [
        "<matplotlib.figure.Figure at 0x10b849dd0>"
       ]
      }
     ],
     "prompt_number": 11
    },
    {
     "cell_type": "code",
     "collapsed": false,
     "input": [
      "# Calucate the median absolute error\n",
      "median_absolute_error = abs((predictions - _test['ClosePrice'])/ _test['ClosePrice']).median()\n",
      "median_absolute_error"
     ],
     "language": "python",
     "metadata": {},
     "outputs": [
      {
       "metadata": {},
       "output_type": "pyout",
       "prompt_number": 12,
       "text": [
        "0.06122780211745711"
       ]
      }
     ],
     "prompt_number": 12
    },
    {
     "cell_type": "code",
     "collapsed": false,
     "input": [
      "# Linear regressions are just one type of regression model. There are many others\n",
      "# Train and evaluate a support vector regression model\n",
      "from sklearn.ensemble import RandomForestRegressor"
     ],
     "language": "python",
     "metadata": {},
     "outputs": [],
     "prompt_number": 13
    },
    {
     "cell_type": "code",
     "collapsed": false,
     "input": [
      "model = RandomForestRegressor()\n",
      "features = ['SqFtTotal', 'YearBuilt', 'LotSizeAreaSQFT']\n",
      "model.fit(train[features], train['ClosePrice'])  # Training step\n"
     ],
     "language": "python",
     "metadata": {},
     "outputs": [
      {
       "metadata": {},
       "output_type": "pyout",
       "prompt_number": 14,
       "text": [
        "RandomForestRegressor(bootstrap=True, criterion='mse', max_depth=None,\n",
        "           max_features='auto', max_leaf_nodes=None, min_samples_leaf=1,\n",
        "           min_samples_split=2, min_weight_fraction_leaf=0.0,\n",
        "           n_estimators=10, n_jobs=1, oob_score=False, random_state=None,\n",
        "           verbose=0, warm_start=False)"
       ]
      }
     ],
     "prompt_number": 14
    },
    {
     "cell_type": "code",
     "collapsed": false,
     "input": [
      "predictions = model.predict(_test[features])\n",
      "median_absolute_error = abs((predictions - _test['ClosePrice'])/ _test['ClosePrice']).median()\n",
      "median_absolute_error"
     ],
     "language": "python",
     "metadata": {},
     "outputs": [
      {
       "metadata": {},
       "output_type": "pyout",
       "prompt_number": 15,
       "text": [
        "0.0666305916305916"
       ]
      }
     ],
     "prompt_number": 15
    },
    {
     "cell_type": "code",
     "collapsed": false,
     "input": [
      "# Lets filter out homes with close price > 300000 to make the problem a little easier.\n",
      "(df.ClosePrice <= 300000).head()"
     ],
     "language": "python",
     "metadata": {},
     "outputs": [
      {
       "metadata": {},
       "output_type": "pyout",
       "prompt_number": 16,
       "text": [
        "0     True\n",
        "1     True\n",
        "2     True\n",
        "3    False\n",
        "4     True\n",
        "Name: ClosePrice, dtype: bool"
       ]
      }
     ],
     "prompt_number": 16
    },
    {
     "cell_type": "code",
     "collapsed": false,
     "input": [
      "(df.ClosePrice <= 300000).sum()"
     ],
     "language": "python",
     "metadata": {},
     "outputs": [
      {
       "metadata": {},
       "output_type": "pyout",
       "prompt_number": 17,
       "text": [
        "857"
       ]
      }
     ],
     "prompt_number": 17
    },
    {
     "cell_type": "code",
     "collapsed": false,
     "input": [
      "df = df[df.ClosePrice < 300000]  # Filter step"
     ],
     "language": "python",
     "metadata": {},
     "outputs": [],
     "prompt_number": 18
    },
    {
     "cell_type": "code",
     "collapsed": false,
     "input": [
      "df.shape"
     ],
     "language": "python",
     "metadata": {},
     "outputs": [
      {
       "metadata": {},
       "output_type": "pyout",
       "prompt_number": 19,
       "text": [
        "(844, 26)"
       ]
      }
     ],
     "prompt_number": 19
    },
    {
     "cell_type": "code",
     "collapsed": false,
     "input": [
      "# \n",
      "# Split data into training and testing\n",
      "train = df.iloc[:600]\n",
      "_test = df.iloc[600:]"
     ],
     "language": "python",
     "metadata": {},
     "outputs": [],
     "prompt_number": 20
    },
    {
     "cell_type": "code",
     "collapsed": false,
     "input": [
      "model = RandomForestRegressor()\n",
      "features = ['SqFtTotal', 'YearBuilt', 'LotSizeAreaSQFT']\n",
      "model.fit(train[features], train['ClosePrice'])\n"
     ],
     "language": "python",
     "metadata": {},
     "outputs": [
      {
       "metadata": {},
       "output_type": "pyout",
       "prompt_number": 21,
       "text": [
        "RandomForestRegressor(bootstrap=True, criterion='mse', max_depth=None,\n",
        "           max_features='auto', max_leaf_nodes=None, min_samples_leaf=1,\n",
        "           min_samples_split=2, min_weight_fraction_leaf=0.0,\n",
        "           n_estimators=10, n_jobs=1, oob_score=False, random_state=None,\n",
        "           verbose=0, warm_start=False)"
       ]
      }
     ],
     "prompt_number": 21
    },
    {
     "cell_type": "code",
     "collapsed": false,
     "input": [
      "predictions = model.predict(_test[features])\n",
      "median_absolute_error = abs((predictions - _test['ClosePrice'])/ _test['ClosePrice']).median()\n",
      "median_absolute_error"
     ],
     "language": "python",
     "metadata": {},
     "outputs": [
      {
       "metadata": {},
       "output_type": "pyout",
       "prompt_number": 22,
       "text": [
        "0.05917387218045113"
       ]
      }
     ],
     "prompt_number": 22
    },
    {
     "cell_type": "code",
     "collapsed": false,
     "input": [],
     "language": "python",
     "metadata": {},
     "outputs": []
    }
   ],
   "metadata": {}
  }
 ]
}